{
 "cells": [
  {
   "cell_type": "markdown",
   "metadata": {},
   "source": [
    "## VERİ OKUTMA"
   ]
  },
  {
   "cell_type": "markdown",
   "metadata": {},
   "source": [
    "###### Kütüphaneleri içe aktarma"
   ]
  },
  {
   "cell_type": "code",
   "execution_count": 1,
   "metadata": {},
   "outputs": [],
   "source": [
    "import pandas as pd ## Veri analizi yapmak için kullandığımız Python dilinin yazılım kütüphanesi.\n",
    "import numpy as np ## Bilimsel hesaplamaları gerçekleştirmesi için çağırıyoruz.\n",
    "import seaborn as sns ## İstatistiksel veri görselleştirmesini gerçekleştirmesi için çağırıyoruz.\n",
    "import matplotlib.pyplot as matplot ## Veri setimizin statik, analitik vb. görsel analizini yapmak için çağırıyoruz.\n",
    "\n",
    "from pandas import read_csv ## Veri setimizi okutmak için çağırıyoruz.\n",
    "\n",
    "from sklearn.preprocessing import StandardScaler ## Veri setimizde yer alan uç değerleri standartlaştırarak normalize eder.\n",
    "from sklearn.model_selection import train_test_split ## Veri setimizi eğitim-test datası olarak bölmesi için çağırıyoruz.\n",
    "\n",
    "from sklearn.tree import DecisionTreeClassifier ## Karar Ağacı modellemesini kullanabilmek için çağırıyoruz.\n",
    "from sklearn.neural_network import MLPClassifier ## Yapay Sinir Ağı modellemesini kullanabilmek için çağırıyoruz.\n",
    "from sklearn.ensemble import RandomForestClassifier ## Rastgele Orman modellemesini kullanabilmek için çağırıyoruz.\n",
    "\n",
    "from sklearn.metrics import accuracy_score, roc_auc_score, f1_score, confusion_matrix, precision_score, recall_score\n",
    "### Doğruluk oranı, Sınıflandırma tablosu, Hassaslık-Duyarlılık oranı vb. hesaplaması için çağırıyoruz.\n",
    "\n",
    "from sklearn.feature_selection import RFE ## Feature Selection (en iyi değişken) seçimi için çağırıyoruz.\n",
    "\n",
    "from sklearn.model_selection import GridSearchCV ## Parametre optimizasyonu yapmak için çağırıyoruz.\n",
    "from sklearn.ensemble import VotingClassifier ## Üç modellemeyi birleştirerek tek model olarak çıktı vermesi için çağırıyoruz.\n"
   ]
  },
  {
   "cell_type": "markdown",
   "metadata": {},
   "source": [
    "###### Veri setini okutma işlemi"
   ]
  },
  {
   "cell_type": "code",
   "execution_count": 2,
   "metadata": {},
   "outputs": [
    {
     "name": "stdout",
     "output_type": "stream",
     "text": [
      "          RI     Na    Mg    Al     Si     K    Ca    Ba   Fe  Type\n",
      "0    1.52101  13.64  4.49  1.10  71.78  0.06  8.75  0.00  0.0     1\n",
      "1    1.51761  13.89  3.60  1.36  72.73  0.48  7.83  0.00  0.0     1\n",
      "2    1.51618  13.53  3.55  1.54  72.99  0.39  7.78  0.00  0.0     1\n",
      "3    1.51766  13.21  3.69  1.29  72.61  0.57  8.22  0.00  0.0     1\n",
      "4    1.51742  13.27  3.62  1.24  73.08  0.55  8.07  0.00  0.0     1\n",
      "..       ...    ...   ...   ...    ...   ...   ...   ...  ...   ...\n",
      "209  1.51623  14.14  0.00  2.88  72.61  0.08  9.18  1.06  0.0     7\n",
      "210  1.51685  14.92  0.00  1.99  73.06  0.00  8.40  1.59  0.0     7\n",
      "211  1.52065  14.36  0.00  2.02  73.42  0.00  8.44  1.64  0.0     7\n",
      "212  1.51651  14.38  0.00  1.94  73.61  0.00  8.48  1.57  0.0     7\n",
      "213  1.51711  14.23  0.00  2.08  73.36  0.00  8.62  1.67  0.0     7\n",
      "\n",
      "[214 rows x 10 columns]\n"
     ]
    }
   ],
   "source": [
    "filename='glass.csv'\n",
    "names=['RI', 'Na', 'Mg', 'Al', 'Si', 'K', 'Ca', 'Ba', 'Fe', 'Type']\n",
    "file = read_csv(filename, names=names)\n",
    "\n",
    "print(file)"
   ]
  },
  {
   "cell_type": "markdown",
   "metadata": {},
   "source": [
    "## VERİ ÖN ANALİZİ"
   ]
  },
  {
   "cell_type": "markdown",
   "metadata": {},
   "source": [
    "##### Verisetinin satır-sütun sayısını öğrenme"
   ]
  },
  {
   "cell_type": "code",
   "execution_count": 3,
   "metadata": {},
   "outputs": [
    {
     "name": "stdout",
     "output_type": "stream",
     "text": [
      "(214, 10)\n"
     ]
    }
   ],
   "source": [
    "print(file.shape)"
   ]
  },
  {
   "cell_type": "markdown",
   "metadata": {},
   "source": [
    "##### Verisetinin özniteliklerinin veri tipini öğrenme"
   ]
  },
  {
   "cell_type": "code",
   "execution_count": 4,
   "metadata": {},
   "outputs": [
    {
     "name": "stdout",
     "output_type": "stream",
     "text": [
      "RI      float64\n",
      "Na      float64\n",
      "Mg      float64\n",
      "Al      float64\n",
      "Si      float64\n",
      "K       float64\n",
      "Ca      float64\n",
      "Ba      float64\n",
      "Fe      float64\n",
      "Type      int64\n",
      "dtype: object\n"
     ]
    }
   ],
   "source": [
    "type = file.dtypes\n",
    "print(type)"
   ]
  },
  {
   "cell_type": "markdown",
   "metadata": {},
   "source": [
    "##### Veri setinin istatistiğini öğrenme"
   ]
  },
  {
   "cell_type": "code",
   "execution_count": 5,
   "metadata": {
    "scrolled": false
   },
   "outputs": [
    {
     "data": {
      "text/html": [
       "<div>\n",
       "<style scoped>\n",
       "    .dataframe tbody tr th:only-of-type {\n",
       "        vertical-align: middle;\n",
       "    }\n",
       "\n",
       "    .dataframe tbody tr th {\n",
       "        vertical-align: top;\n",
       "    }\n",
       "\n",
       "    .dataframe thead th {\n",
       "        text-align: right;\n",
       "    }\n",
       "</style>\n",
       "<table border=\"1\" class=\"dataframe\">\n",
       "  <thead>\n",
       "    <tr style=\"text-align: right;\">\n",
       "      <th></th>\n",
       "      <th>RI</th>\n",
       "      <th>Na</th>\n",
       "      <th>Mg</th>\n",
       "      <th>Al</th>\n",
       "      <th>Si</th>\n",
       "      <th>K</th>\n",
       "      <th>Ca</th>\n",
       "      <th>Ba</th>\n",
       "      <th>Fe</th>\n",
       "      <th>Type</th>\n",
       "    </tr>\n",
       "  </thead>\n",
       "  <tbody>\n",
       "    <tr>\n",
       "      <th>count</th>\n",
       "      <td>214.000000</td>\n",
       "      <td>214.000000</td>\n",
       "      <td>214.000000</td>\n",
       "      <td>214.000000</td>\n",
       "      <td>214.000000</td>\n",
       "      <td>214.000000</td>\n",
       "      <td>214.000000</td>\n",
       "      <td>214.000000</td>\n",
       "      <td>214.000000</td>\n",
       "      <td>214.000000</td>\n",
       "    </tr>\n",
       "    <tr>\n",
       "      <th>mean</th>\n",
       "      <td>1.518365</td>\n",
       "      <td>13.407850</td>\n",
       "      <td>2.684533</td>\n",
       "      <td>1.444907</td>\n",
       "      <td>72.650935</td>\n",
       "      <td>0.497056</td>\n",
       "      <td>8.956963</td>\n",
       "      <td>0.175047</td>\n",
       "      <td>0.057009</td>\n",
       "      <td>2.780374</td>\n",
       "    </tr>\n",
       "    <tr>\n",
       "      <th>std</th>\n",
       "      <td>0.003037</td>\n",
       "      <td>0.816604</td>\n",
       "      <td>1.442408</td>\n",
       "      <td>0.499270</td>\n",
       "      <td>0.774546</td>\n",
       "      <td>0.652192</td>\n",
       "      <td>1.423153</td>\n",
       "      <td>0.497219</td>\n",
       "      <td>0.097439</td>\n",
       "      <td>2.103739</td>\n",
       "    </tr>\n",
       "    <tr>\n",
       "      <th>min</th>\n",
       "      <td>1.511150</td>\n",
       "      <td>10.730000</td>\n",
       "      <td>0.000000</td>\n",
       "      <td>0.290000</td>\n",
       "      <td>69.810000</td>\n",
       "      <td>0.000000</td>\n",
       "      <td>5.430000</td>\n",
       "      <td>0.000000</td>\n",
       "      <td>0.000000</td>\n",
       "      <td>1.000000</td>\n",
       "    </tr>\n",
       "    <tr>\n",
       "      <th>25%</th>\n",
       "      <td>1.516523</td>\n",
       "      <td>12.907500</td>\n",
       "      <td>2.115000</td>\n",
       "      <td>1.190000</td>\n",
       "      <td>72.280000</td>\n",
       "      <td>0.122500</td>\n",
       "      <td>8.240000</td>\n",
       "      <td>0.000000</td>\n",
       "      <td>0.000000</td>\n",
       "      <td>1.000000</td>\n",
       "    </tr>\n",
       "    <tr>\n",
       "      <th>50%</th>\n",
       "      <td>1.517680</td>\n",
       "      <td>13.300000</td>\n",
       "      <td>3.480000</td>\n",
       "      <td>1.360000</td>\n",
       "      <td>72.790000</td>\n",
       "      <td>0.555000</td>\n",
       "      <td>8.600000</td>\n",
       "      <td>0.000000</td>\n",
       "      <td>0.000000</td>\n",
       "      <td>2.000000</td>\n",
       "    </tr>\n",
       "    <tr>\n",
       "      <th>75%</th>\n",
       "      <td>1.519157</td>\n",
       "      <td>13.825000</td>\n",
       "      <td>3.600000</td>\n",
       "      <td>1.630000</td>\n",
       "      <td>73.087500</td>\n",
       "      <td>0.610000</td>\n",
       "      <td>9.172500</td>\n",
       "      <td>0.000000</td>\n",
       "      <td>0.100000</td>\n",
       "      <td>3.000000</td>\n",
       "    </tr>\n",
       "    <tr>\n",
       "      <th>max</th>\n",
       "      <td>1.533930</td>\n",
       "      <td>17.380000</td>\n",
       "      <td>4.490000</td>\n",
       "      <td>3.500000</td>\n",
       "      <td>75.410000</td>\n",
       "      <td>6.210000</td>\n",
       "      <td>16.190000</td>\n",
       "      <td>3.150000</td>\n",
       "      <td>0.510000</td>\n",
       "      <td>7.000000</td>\n",
       "    </tr>\n",
       "  </tbody>\n",
       "</table>\n",
       "</div>"
      ],
      "text/plain": [
       "               RI          Na          Mg          Al          Si           K  \\\n",
       "count  214.000000  214.000000  214.000000  214.000000  214.000000  214.000000   \n",
       "mean     1.518365   13.407850    2.684533    1.444907   72.650935    0.497056   \n",
       "std      0.003037    0.816604    1.442408    0.499270    0.774546    0.652192   \n",
       "min      1.511150   10.730000    0.000000    0.290000   69.810000    0.000000   \n",
       "25%      1.516523   12.907500    2.115000    1.190000   72.280000    0.122500   \n",
       "50%      1.517680   13.300000    3.480000    1.360000   72.790000    0.555000   \n",
       "75%      1.519157   13.825000    3.600000    1.630000   73.087500    0.610000   \n",
       "max      1.533930   17.380000    4.490000    3.500000   75.410000    6.210000   \n",
       "\n",
       "               Ca          Ba          Fe        Type  \n",
       "count  214.000000  214.000000  214.000000  214.000000  \n",
       "mean     8.956963    0.175047    0.057009    2.780374  \n",
       "std      1.423153    0.497219    0.097439    2.103739  \n",
       "min      5.430000    0.000000    0.000000    1.000000  \n",
       "25%      8.240000    0.000000    0.000000    1.000000  \n",
       "50%      8.600000    0.000000    0.000000    2.000000  \n",
       "75%      9.172500    0.000000    0.100000    3.000000  \n",
       "max     16.190000    3.150000    0.510000    7.000000  "
      ]
     },
     "execution_count": 5,
     "metadata": {},
     "output_type": "execute_result"
    }
   ],
   "source": [
    "file.describe()"
   ]
  },
  {
   "cell_type": "markdown",
   "metadata": {},
   "source": [
    "##### Her bir tahmin sınıfında yer alan veri sayısını öğrenme"
   ]
  },
  {
   "cell_type": "code",
   "execution_count": 6,
   "metadata": {
    "scrolled": true
   },
   "outputs": [
    {
     "name": "stdout",
     "output_type": "stream",
     "text": [
      "1-build wind float \n",
      "2-build wind non-float \n",
      "3-vehic wind float \n",
      "5-containers \n",
      "6-tableware \n",
      "7-headlamps\n",
      "\n",
      "2    76\n",
      "1    70\n",
      "7    29\n",
      "3    17\n",
      "5    13\n",
      "6     9\n",
      "Name: Type, dtype: int64\n"
     ]
    }
   ],
   "source": [
    "dt = file['Type'].value_counts()\n",
    "print(\"1-build wind float \\n2-build wind non-float \\n3-vehic wind float \\n5-containers \\n6-tableware \\n7-headlamps\" '\\n')\n",
    "print (dt)"
   ]
  },
  {
   "cell_type": "markdown",
   "metadata": {},
   "source": [
    "##### Veri setinde kayıp veri kontrolü"
   ]
  },
  {
   "cell_type": "code",
   "execution_count": 7,
   "metadata": {},
   "outputs": [
    {
     "data": {
      "text/plain": [
       "RI      0\n",
       "Na      0\n",
       "Mg      0\n",
       "Al      0\n",
       "Si      0\n",
       "K       0\n",
       "Ca      0\n",
       "Ba      0\n",
       "Fe      0\n",
       "Type    0\n",
       "dtype: int64"
      ]
     },
     "execution_count": 7,
     "metadata": {},
     "output_type": "execute_result"
    }
   ],
   "source": [
    "file.isnull().sum()"
   ]
  },
  {
   "cell_type": "markdown",
   "metadata": {},
   "source": [
    "##### Tahmin sınıflarındaki veri sayısının grafik analizi"
   ]
  },
  {
   "cell_type": "code",
   "execution_count": 8,
   "metadata": {
    "scrolled": true
   },
   "outputs": [
    {
     "data": {
      "image/png": "[encoded data removed]",
      "text/plain": [
       "<Figure size 432x288 with 1 Axes>"
      ]
     },
     "metadata": {
      "needs_background": "light"
     },
     "output_type": "display_data"
    }
   ],
   "source": [
    "ax = sns.countplot(y=\"Type\", data=file)\n",
    "matplot.show()\n"
   ]
  },
  {
   "cell_type": "markdown",
   "metadata": {},
   "source": [
    "##### Özniteliklerin dağılım grafiğini listeleme"
   ]
  },
  {
   "cell_type": "code",
   "execution_count": 9,
   "metadata": {
    "scrolled": true
   },
   "outputs": [
    {
     "data": {
      "image/png": "[encoded data removed]",
      "text/plain": [
       "<Figure size 432x288 with 1 Axes>"
      ]
     },
     "metadata": {
      "needs_background": "light"
     },
     "output_type": "display_data"
    }
   ],
   "source": [
    "ax = sns.scatterplot(x=\"Na\", y=\"Mg\", style=\"Type\", data=file)"
   ]
  },
  {
   "cell_type": "markdown",
   "metadata": {},
   "source": [
    "##### Özniteliklerin bağlılık ilişkilerini öğrenme."
   ]
  },
  {
   "cell_type": "code",
   "execution_count": 10,
   "metadata": {
    "scrolled": false
   },
   "outputs": [
    {
     "name": "stdout",
     "output_type": "stream",
     "text": [
      "Kırmızı (+1) tonlar pozitif, Mavi (-1) tonlar negatif.\n"
     ]
    },
    {
     "data": {
      "text/plain": [
       "<matplotlib.axes._subplots.AxesSubplot at 0x25353dac948>"
      ]
     },
     "execution_count": 10,
     "metadata": {},
     "output_type": "execute_result"
    },
    {
     "data": {
      "image/png": "[encoded data removed]",
      "text/plain": [
       "<Figure size 864x576 with 2 Axes>"
      ]
     },
     "metadata": {
      "needs_background": "light"
     },
     "output_type": "display_data"
    }
   ],
   "source": [
    "print(\"Kırmızı (+1) tonlar pozitif, Mavi (-1) tonlar negatif.\")\n",
    "\n",
    "f, ax=matplot.subplots(figsize=(12,8))\n",
    "\n",
    "sns.heatmap(file.corr(), square=True, annot=True, linewidths=0.5, fmt='.3f', cmap='coolwarm')"
   ]
  },
  {
   "cell_type": "markdown",
   "metadata": {},
   "source": [
    "#### Eğitim-test verisi oluşturmak için değişkenlere verisetinin bilgilerini aktarma"
   ]
  },
  {
   "cell_type": "code",
   "execution_count": 11,
   "metadata": {},
   "outputs": [
    {
     "name": "stdout",
     "output_type": "stream",
     "text": [
      "(214, 9)\n",
      "(214,)\n"
     ]
    }
   ],
   "source": [
    "veri = file.values\n",
    "\n",
    "ozellikler = veri[:,0:9]\n",
    "hedef = veri[:,9]\n",
    "\n",
    "print(ozellikler.shape)\n",
    "print(hedef.shape)"
   ]
  },
  {
   "cell_type": "markdown",
   "metadata": {},
   "source": [
    "## VERİYİ MODELLEMEYE HAZIRLAMA"
   ]
  },
  {
   "cell_type": "markdown",
   "metadata": {},
   "source": [
    "##### Modellemeden tahmin sınıfı değişkenini çıkarma"
   ]
  },
  {
   "cell_type": "code",
   "execution_count": 12,
   "metadata": {},
   "outputs": [],
   "source": [
    "ozellikler = file.loc[:,file.columns != 'Type'] \n",
    "hedef = file.loc[:,'Type']"
   ]
  },
  {
   "cell_type": "markdown",
   "metadata": {},
   "source": [
    "##### Veri setini eğitim-test verisi olarak bölme"
   ]
  },
  {
   "cell_type": "code",
   "execution_count": 13,
   "metadata": {},
   "outputs": [
    {
     "name": "stdout",
     "output_type": "stream",
     "text": [
      "Bolmemizin ardindan 171 tane egitim verimiz ve 43 tane test verimiz var.\n",
      "\n"
     ]
    }
   ],
   "source": [
    "x_egitim, x_test, y_egitim, y_test = train_test_split(ozellikler, hedef, train_size=0.80, test_size=0.20, random_state=42)\n",
    "print('Bolmemizin ardindan {} tane egitim verimiz ve {} tane test verimiz var.' '\\n'.format(x_egitim.shape[0], x_test.shape[0]))"
   ]
  },
  {
   "cell_type": "markdown",
   "metadata": {},
   "source": [
    "##### VERIYI NORMALIZE ETME (Normalizer)"
   ]
  },
  {
   "cell_type": "code",
   "execution_count": 14,
   "metadata": {},
   "outputs": [],
   "source": [
    "sc = StandardScaler()\n",
    "\n",
    "x_egitim_std = sc.fit_transform(x_egitim)\n",
    "x_test_std = sc.transform(x_test)\n"
   ]
  },
  {
   "cell_type": "markdown",
   "metadata": {},
   "source": [
    "## 1. VERİ MODELLEME (Karar Ağacı Sınıflandırması)"
   ]
  },
  {
   "cell_type": "markdown",
   "metadata": {},
   "source": [
    "###### Karar ağacı modellemesini çağırma ve modelleme tahminine hazırlık"
   ]
  },
  {
   "cell_type": "code",
   "execution_count": 15,
   "metadata": {
    "scrolled": false
   },
   "outputs": [],
   "source": [
    "\n",
    "dtc = DecisionTreeClassifier(max_depth=10)\n",
    "dtc.fit(x_egitim, y_egitim)\n",
    "\n",
    "y_tahmin = dtc.predict(x_test)\n",
    "y_tahmin2 = dtc.predict(x_egitim)\n"
   ]
  },
  {
   "cell_type": "markdown",
   "metadata": {},
   "source": [
    "###### Tahmin sonucu yazdırma"
   ]
  },
  {
   "cell_type": "code",
   "execution_count": 16,
   "metadata": {},
   "outputs": [
    {
     "name": "stdout",
     "output_type": "stream",
     "text": [
      "Karar Ağacı Eğitim verisi doğruluk:  0.9883040935672515\n",
      "Karar Ağacı Test verisi doğruluk:  0.7906976744186046 \n",
      "\n",
      "Karar Ağacı Precision (Hassaslık):  0.7906976744186046\n",
      "Karar Ağacı Recall (Duyarlılık):  0.8896103896103895 \n",
      "\n",
      "Karar Ağacı F1 skoru:  0.834025234025234 \n",
      "\n",
      "Karar Ağacı Sınıflandırma tablosu: \n"
     ]
    },
    {
     "data": {
      "image/png": "[encoded data removed]",
      "text/plain": [
       "<Figure size 432x288 with 2 Axes>"
      ]
     },
     "metadata": {
      "needs_background": "light"
     },
     "output_type": "display_data"
    }
   ],
   "source": [
    "print('Karar Ağacı Eğitim verisi doğruluk: ', accuracy_score(y_tahmin2, y_egitim))\n",
    "print('Karar Ağacı Test verisi doğruluk: ', accuracy_score(y_tahmin, y_test), '\\n')\n",
    "\n",
    "print(\"Karar Ağacı Precision (Hassaslık): \", precision_score(y_test, y_tahmin, average='micro'))\n",
    "print(\"Karar Ağacı Recall (Duyarlılık): \", recall_score(y_test, y_tahmin, average='macro'), '\\n')\n",
    "\n",
    "f1skor = f1_score(y_test, y_tahmin, average='macro')\n",
    "print(\"Karar Ağacı F1 skoru: \", f1skor, '\\n')\n",
    "\n",
    "cm = confusion_matrix(y_test, y_tahmin)\n",
    "sns.heatmap(cm, center=True, annot=True, fmt=\"d\")\n",
    "\n",
    "print(\"Karar Ağacı Sınıflandırma tablosu: \")"
   ]
  },
  {
   "cell_type": "markdown",
   "metadata": {},
   "source": [
    "### KARAR AĞACI İÇİN ÖZNİTELİK SEÇİMİ"
   ]
  },
  {
   "cell_type": "code",
   "execution_count": 17,
   "metadata": {
    "scrolled": true
   },
   "outputs": [
    {
     "data": {
      "text/plain": [
       "DecisionTreeClassifier(ccp_alpha=0.0, class_weight=None, criterion='gini',\n",
       "                       max_depth=10, max_features=None, max_leaf_nodes=None,\n",
       "                       min_impurity_decrease=0.0, min_impurity_split=None,\n",
       "                       min_samples_leaf=1, min_samples_split=2,\n",
       "                       min_weight_fraction_leaf=0.0, presort='deprecated',\n",
       "                       random_state=None, splitter='best')"
      ]
     },
     "execution_count": 17,
     "metadata": {},
     "output_type": "execute_result"
    }
   ],
   "source": [
    "dtc = DecisionTreeClassifier(max_depth=10)\n",
    "rfe = RFE(dtc, 3)\n",
    "fit = rfe.fit(x_egitim, y_egitim)\n",
    "\n",
    "dtc.fit(x_egitim, y_egitim)"
   ]
  },
  {
   "cell_type": "code",
   "execution_count": 18,
   "metadata": {},
   "outputs": [
    {
     "name": "stdout",
     "output_type": "stream",
     "text": [
      "Öznitelik sayısı: 3\n",
      "Seçilen Öznitelikler: [ True False  True  True False False False False False]\n",
      "Özniteliklerimiz:     ['RI', 'Na', 'Mg', 'Al', 'Si', 'K', 'Ca', 'Ba', 'Fe']\n",
      "Öznitelik Sıralaması: [1 5 1 1 7 3 4 2 6]\n"
     ]
    }
   ],
   "source": [
    "print(\"Öznitelik sayısı: %d\" % fit.n_features_)\n",
    "print(\"Seçilen Öznitelikler: %s\" % fit.support_)\n",
    "print(\"Özniteliklerimiz:    \", names[0:9])\n",
    "print(\"Öznitelik Sıralaması: %s\" % fit.ranking_)"
   ]
  },
  {
   "cell_type": "markdown",
   "metadata": {},
   "source": [
    "### Karar Ağacı için Seçilen Öznitelikler ile Modelleme"
   ]
  },
  {
   "cell_type": "code",
   "execution_count": 19,
   "metadata": {},
   "outputs": [],
   "source": [
    "x2 = file[['RI', 'Mg', 'Al']]\n",
    "y2 = file['Type']\n",
    "\n",
    "x2_egitim, x2_test, y2_egitim, y2_test = train_test_split(x2, y2, test_size=0.20, random_state=42)\n",
    "\n",
    "\n",
    "clf = DecisionTreeClassifier().fit(x2_egitim, y2_egitim)"
   ]
  },
  {
   "cell_type": "code",
   "execution_count": 20,
   "metadata": {},
   "outputs": [
    {
     "name": "stdout",
     "output_type": "stream",
     "text": [
      "Karar Ağacı Sınıflandırması için eğitim perf. 1.00\n",
      "Karar Ağacı Sınıflandırması için test perf. 0.70 \n",
      "\n",
      "Precision (Hassaslık):  0.6976744186046512\n",
      "Recall (Duyarlılık):  0.6634199134199134 \n",
      "\n",
      "F1 skor değerimiz:  0.6509803921568628 \n",
      "\n",
      "Sınıflandırma tablosu: \n"
     ]
    },
    {
     "data": {
      "image/png": "[encoded data removed]",
      "text/plain": [
       "<Figure size 432x288 with 2 Axes>"
      ]
     },
     "metadata": {
      "needs_background": "light"
     },
     "output_type": "display_data"
    }
   ],
   "source": [
    "clf_tahmin = clf.predict(x2_test)\n",
    "\n",
    "\n",
    "print(\"Karar Ağacı Sınıflandırması için eğitim perf. {:.2f}\".format(clf.score(x2_egitim, y2_egitim)))\n",
    "print(\"Karar Ağacı Sınıflandırması için test perf. {:.2f}\".format(clf.score(x2_test, y2_test)), '\\n')\n",
    "\n",
    "\n",
    "print(\"Precision (Hassaslık): \", precision_score(y2_test, clf_tahmin, average='micro'))\n",
    "print(\"Recall (Duyarlılık): \", recall_score(y2_test, clf_tahmin, average='macro'), '\\n')\n",
    "\n",
    "f1skor2 = f1_score(y2_test, clf_tahmin, average='macro')\n",
    "print(\"F1 skor değerimiz: \", f1skor2, '\\n')\n",
    "\n",
    "cm = confusion_matrix(y2_test, clf_tahmin)\n",
    "sns.heatmap(cm, center=True, annot=True, fmt=\"d\")\n",
    "\n",
    "print(\"Sınıflandırma tablosu: \")"
   ]
  },
  {
   "cell_type": "markdown",
   "metadata": {},
   "source": [
    "### Karar Ağacı Sınıflandırması için Parametre Optimizasyonu"
   ]
  },
  {
   "cell_type": "code",
   "execution_count": 21,
   "metadata": {
    "scrolled": false
   },
   "outputs": [
    {
     "name": "stdout",
     "output_type": "stream",
     "text": [
      "Fitting 10 folds for each of 750 candidates, totalling 7500 fits\n"
     ]
    },
    {
     "name": "stderr",
     "output_type": "stream",
     "text": [
      "D:\\ProgramData\\Anaconda3\\lib\\site-packages\\sklearn\\model_selection\\_split.py:667: UserWarning: The least populated class in y has only 6 members, which is less than n_splits=10.\n",
      "  % (min_groups, self.n_splits)), UserWarning)\n",
      "[Parallel(n_jobs=-1)]: Using backend LokyBackend with 8 concurrent workers.\n",
      "[Parallel(n_jobs=-1)]: Done  25 tasks      | elapsed:    1.4s\n",
      "[Parallel(n_jobs=-1)]: Done 1864 tasks      | elapsed:    2.9s\n",
      "[Parallel(n_jobs=-1)]: Done 7399 tasks      | elapsed:    6.1s\n",
      "[Parallel(n_jobs=-1)]: Done 7500 out of 7500 | elapsed:    6.1s finished\n"
     ]
    },
    {
     "data": {
      "text/plain": [
       "GridSearchCV(cv=10, error_score=nan,\n",
       "             estimator=DecisionTreeClassifier(ccp_alpha=0.0, class_weight=None,\n",
       "                                              criterion='gini', max_depth=None,\n",
       "                                              max_features=None,\n",
       "                                              max_leaf_nodes=None,\n",
       "                                              min_impurity_decrease=0.0,\n",
       "                                              min_impurity_split=None,\n",
       "                                              min_samples_leaf=1,\n",
       "                                              min_samples_split=2,\n",
       "                                              min_weight_fraction_leaf=0.0,\n",
       "                                              presort='deprecated',\n",
       "                                              random_state=None,\n",
       "                                              splitter='best'),\n",
       "             iid='deprecated', n_jobs=-1,\n",
       "             param_grid={'criterion': ['gini', 'entropy'],\n",
       "                         'max_depth': [1, 2, 3, 4, 5],\n",
       "                         'max_features': ['none', 'sqrt', 'log2'],\n",
       "                         'min_samples_leaf': [1, 5, 10, 15, 20],\n",
       "                         'min_samples_split': [2, 3, 5, 6, 7]},\n",
       "             pre_dispatch='2*n_jobs', refit=True, return_train_score=False,\n",
       "             scoring=None, verbose=2)"
      ]
     },
     "execution_count": 21,
     "metadata": {},
     "output_type": "execute_result"
    }
   ],
   "source": [
    "dtc = DecisionTreeClassifier()\n",
    "\n",
    "parametre = {\n",
    "    'max_depth': [1, 2, 3, 4, 5],\n",
    "    'max_features':[\"none\", \"sqrt\", \"log2\"],\n",
    "    'min_samples_leaf':[1, 5, 10, 15, 20],\n",
    "    'criterion': ['gini', 'entropy'],\n",
    "    'min_samples_split': [2, 3, 5, 6, 7]\n",
    "}\n",
    "            \n",
    "dtc = GridSearchCV(estimator = dtc,\n",
    "                           param_grid  = parametre,\n",
    "                           cv = 10,\n",
    "                           n_jobs = -1,\n",
    "                           verbose=2)\n",
    "dtc.fit(x_egitim, y_egitim.ravel())"
   ]
  },
  {
   "cell_type": "code",
   "execution_count": 22,
   "metadata": {},
   "outputs": [
    {
     "name": "stdout",
     "output_type": "stream",
     "text": [
      "0.6666666666666667\n",
      "{'criterion': 'gini', 'max_depth': 4, 'max_features': 'log2', 'min_samples_leaf': 1, 'min_samples_split': 2}\n"
     ]
    }
   ],
   "source": [
    "print(dtc.best_score_)\n",
    "print(dtc.best_params_)"
   ]
  },
  {
   "cell_type": "code",
   "execution_count": 23,
   "metadata": {},
   "outputs": [
    {
     "name": "stdout",
     "output_type": "stream",
     "text": [
      "Test verisi için doğruluk oranı:  0.7906976744186046 \n",
      "\n",
      "Precision (Hassaslık):  0.7906976744186046\n",
      "Recall (Duyarlılık):  0.8896103896103895 \n",
      "\n",
      "F1 skor değerimiz:  0.834025234025234 \n",
      "\n"
     ]
    }
   ],
   "source": [
    "\n",
    "print('Test verisi için doğruluk oranı: ', accuracy_score(y_tahmin, y_test), '\\n')\n",
    "\n",
    "print(\"Precision (Hassaslık): \", precision_score(y_tahmin, y_test, average='micro'))\n",
    "print(\"Recall (Duyarlılık): \", recall_score(y_test, y_tahmin, average='macro'), '\\n')\n",
    "\n",
    "f1skor8 = f1_score(y_test, y_tahmin, average='macro')\n",
    "print(\"F1 skor değerimiz: \", f1skor8, '\\n')\n",
    "\n"
   ]
  },
  {
   "cell_type": "markdown",
   "metadata": {},
   "source": [
    "## 2. VERİ MODELLEME (MultiLayer Perceptron)"
   ]
  },
  {
   "cell_type": "code",
   "execution_count": 24,
   "metadata": {},
   "outputs": [
    {
     "name": "stdout",
     "output_type": "stream",
     "text": [
      "MLP Eğitim doğruluk oranı:  0.935672514619883\n",
      "MLP Test doğruluk oranı:  0.7906976744186046 \n",
      "\n",
      "Precision (Hassaslık):  0.7906976744186046\n",
      "Recall (Duyarlılık):  0.8007756132756132 \n",
      "\n",
      "F1 skor değerimiz:  0.7756653839987173 \n",
      "\n",
      "Sınıflandırma tablosu: \n"
     ]
    },
    {
     "data": {
      "image/png": "[encoded data removed]",
      "text/plain": [
       "<Figure size 432x288 with 2 Axes>"
      ]
     },
     "metadata": {
      "needs_background": "light"
     },
     "output_type": "display_data"
    }
   ],
   "source": [
    "\n",
    "mlp = MLPClassifier(activation='logistic', max_iter=100000)\n",
    "mlp.fit(x_egitim_std, y_egitim)\n",
    "\n",
    "y_tahmin = mlp.predict(x_test_std)\n",
    "y_tahmin2 = mlp.predict(x_egitim_std)\n",
    "\n",
    "print('MLP Eğitim doğruluk oranı: ', accuracy_score(y_tahmin2, y_egitim))\n",
    "print('MLP Test doğruluk oranı: ', accuracy_score(y_tahmin, y_test), '\\n')\n",
    "\n",
    "print(\"Precision (Hassaslık): \", precision_score(y_test, y_tahmin, average='micro'))\n",
    "print(\"Recall (Duyarlılık): \", recall_score(y_test, y_tahmin, average='macro'), '\\n')\n",
    "\n",
    "f1skor31 = f1_score(y_test, y_tahmin, average='macro')\n",
    "print(\"F1 skor değerimiz: \", f1skor31, '\\n')\n",
    "\n",
    "cm = confusion_matrix(y_test, y_tahmin)\n",
    "sns.heatmap(cm, center=True, annot=True, fmt=\"d\")\n",
    "\n",
    "print(\"Sınıflandırma tablosu: \")"
   ]
  },
  {
   "cell_type": "markdown",
   "metadata": {},
   "source": [
    "### MLP İÇİN ÖZNİTELİK SEÇİMİ"
   ]
  },
  {
   "cell_type": "code",
   "execution_count": 25,
   "metadata": {},
   "outputs": [
    {
     "data": {
      "text/plain": [
       "MLPClassifier(activation='relu', alpha=0.0001, batch_size='auto', beta_1=0.9,\n",
       "              beta_2=0.999, early_stopping=False, epsilon=1e-08,\n",
       "              hidden_layer_sizes=(100,), learning_rate='constant',\n",
       "              learning_rate_init=0.001, max_fun=15000, max_iter=100000,\n",
       "              momentum=0.9, n_iter_no_change=10, nesterovs_momentum=True,\n",
       "              power_t=0.5, random_state=None, shuffle=True, solver='adam',\n",
       "              tol=0.0001, validation_fraction=0.1, verbose=False,\n",
       "              warm_start=False)"
      ]
     },
     "execution_count": 25,
     "metadata": {},
     "output_type": "execute_result"
    }
   ],
   "source": [
    "mlp = MLPClassifier(max_iter=100000)\n",
    "mlprfe = RFE(mlp, 3)\n",
    "\n",
    "mlp.fit(x_egitim, y_egitim)\n"
   ]
  },
  {
   "cell_type": "code",
   "execution_count": 26,
   "metadata": {},
   "outputs": [
    {
     "name": "stdout",
     "output_type": "stream",
     "text": [
      "Öznitelik sayısı: 3\n",
      "Seçilen Öznitelikler: [ True False  True  True False False False False False]\n",
      "Özniteliklerimiz:     ['RI', 'Na', 'Mg', 'Al', 'Si', 'K', 'Ca', 'Ba', 'Fe']\n",
      "Öznitelik Sıralaması: [1 5 1 1 7 3 4 2 6]\n"
     ]
    }
   ],
   "source": [
    "\n",
    "print(\"Öznitelik sayısı: %d\" % fit.n_features_)\n",
    "print(\"Seçilen Öznitelikler: %s\" % fit.support_)\n",
    "print(\"Özniteliklerimiz:    \", names[0:9])\n",
    "print(\"Öznitelik Sıralaması: %s\" % fit.ranking_)"
   ]
  },
  {
   "cell_type": "markdown",
   "metadata": {},
   "source": [
    "### MLP için Seçilen Öznitelikler ile Modelleme"
   ]
  },
  {
   "cell_type": "code",
   "execution_count": 27,
   "metadata": {},
   "outputs": [],
   "source": [
    "x2 = file[['RI', 'Mg', 'Al']]\n",
    "y2 = file['Type']\n",
    "\n",
    "x2_egitim, x2_test, y2_egitim, y2_test = train_test_split(x2, y2, random_state=42)\n",
    "\n",
    "###############################################################################\n",
    "\n",
    "mlp = MLPClassifier(max_iter=100000).fit(x2_egitim, y2_egitim)"
   ]
  },
  {
   "cell_type": "code",
   "execution_count": 28,
   "metadata": {},
   "outputs": [
    {
     "name": "stdout",
     "output_type": "stream",
     "text": [
      "MLP Eğitim performansı: 0.72\n",
      "MLP Test performansı: 0.59 \n",
      "\n",
      "Precision (Hassaslık):  0.5925925925925926\n",
      "Recall (Duyarlılık):  0.48115079365079366 \n",
      "\n",
      "F1 skor değerimiz:  0.43593833067517274 \n",
      "\n",
      "Sınıflandırma tablosu: \n"
     ]
    },
    {
     "data": {
      "image/png": "[encoded data removed]",
      "text/plain": [
       "<Figure size 432x288 with 2 Axes>"
      ]
     },
     "metadata": {
      "needs_background": "light"
     },
     "output_type": "display_data"
    }
   ],
   "source": [
    "\n",
    "print(\"MLP Eğitim performansı: {:.2f}\".format(mlp.score(x2_egitim, y2_egitim)))\n",
    "print(\"MLP Test performansı: {:.2f}\".format(mlp.score(x2_test, y2_test)), '\\n')\n",
    "\n",
    "mlp_tahmin = mlp.predict(x2_test)\n",
    "\n",
    "print(\"Precision (Hassaslık): \", precision_score(y2_test, mlp_tahmin, average='micro'))\n",
    "print(\"Recall (Duyarlılık): \", recall_score(y2_test, mlp_tahmin, average='macro'), '\\n')\n",
    "\n",
    "f1skor4 = f1_score(y2_test, mlp_tahmin, average='macro')\n",
    "print(\"F1 skor değerimiz: \", f1skor4, '\\n')\n",
    "\n",
    "cm = confusion_matrix(y2_test, mlp_tahmin)\n",
    "sns.heatmap(cm, center=True, annot=True, fmt=\"d\")\n",
    "\n",
    "print(\"Sınıflandırma tablosu: \")"
   ]
  },
  {
   "cell_type": "markdown",
   "metadata": {},
   "source": [
    "### MLP için Parametre Optimizasyonu"
   ]
  },
  {
   "cell_type": "code",
   "execution_count": 29,
   "metadata": {},
   "outputs": [
    {
     "name": "stdout",
     "output_type": "stream",
     "text": [
      "Fitting 10 folds for each of 72 candidates, totalling 720 fits\n"
     ]
    },
    {
     "name": "stderr",
     "output_type": "stream",
     "text": [
      "D:\\ProgramData\\Anaconda3\\lib\\site-packages\\sklearn\\model_selection\\_split.py:667: UserWarning: The least populated class in y has only 6 members, which is less than n_splits=10.\n",
      "  % (min_groups, self.n_splits)), UserWarning)\n",
      "[Parallel(n_jobs=-1)]: Using backend LokyBackend with 8 concurrent workers.\n",
      "[Parallel(n_jobs=-1)]: Done  25 tasks      | elapsed:    1.8s\n",
      "[Parallel(n_jobs=-1)]: Done 146 tasks      | elapsed:   11.4s\n",
      "[Parallel(n_jobs=-1)]: Done 349 tasks      | elapsed:   30.3s\n",
      "[Parallel(n_jobs=-1)]: Done 632 tasks      | elapsed:  1.8min\n",
      "[Parallel(n_jobs=-1)]: Done 720 out of 720 | elapsed:  2.3min finished\n"
     ]
    },
    {
     "data": {
      "text/plain": [
       "GridSearchCV(cv=10, error_score=nan,\n",
       "             estimator=MLPClassifier(activation='relu', alpha=0.0001,\n",
       "                                     batch_size='auto', beta_1=0.9,\n",
       "                                     beta_2=0.999, early_stopping=False,\n",
       "                                     epsilon=1e-08, hidden_layer_sizes=(100,),\n",
       "                                     learning_rate='constant',\n",
       "                                     learning_rate_init=0.001, max_fun=15000,\n",
       "                                     max_iter=200, momentum=0.9,\n",
       "                                     n_iter_no_change=10,\n",
       "                                     nesterovs_momentum=True, power_t=0.5,\n",
       "                                     random_stat...rue,\n",
       "                                     solver='adam', tol=0.0001,\n",
       "                                     validation_fraction=0.1, verbose=False,\n",
       "                                     warm_start=False),\n",
       "             iid='deprecated', n_jobs=-1,\n",
       "             param_grid={'activation': ['logistic', 'relu'],\n",
       "                         'alpha': [1, 10, 0.1],\n",
       "                         'hidden_layer_sizes': [(50, 50, 50), (50, 100, 50),\n",
       "                                                (100,)],\n",
       "                         'max_iter': [5000, 10000, 40000, 100000]},\n",
       "             pre_dispatch='2*n_jobs', refit=True, return_train_score=False,\n",
       "             scoring=None, verbose=2)"
      ]
     },
     "execution_count": 29,
     "metadata": {},
     "output_type": "execute_result"
    }
   ],
   "source": [
    "parameters={\n",
    "'alpha': [1,10,0.1],\n",
    "'max_iter': [5000, 10000, 40000, 100000],\n",
    "'activation': [\"logistic\", \"relu\"],\n",
    "'hidden_layer_sizes': [(50,50,50), (50,100,50), (100,)],\n",
    "}\n",
    "\n",
    "mlp = MLPClassifier()\n",
    "\n",
    "mlp_optimal = GridSearchCV(\n",
    "    estimator=mlp,\n",
    "    param_grid=parameters,\n",
    "    n_jobs=-1,\n",
    "    verbose=2,\n",
    "    cv=10\n",
    "    )\n",
    "\n",
    "mlp_optimal.fit(x2_egitim, y2_egitim.ravel())"
   ]
  },
  {
   "cell_type": "code",
   "execution_count": 30,
   "metadata": {},
   "outputs": [
    {
     "name": "stdout",
     "output_type": "stream",
     "text": [
      "0.68125\n",
      "{'activation': 'relu', 'alpha': 0.1, 'hidden_layer_sizes': (50, 50, 50), 'max_iter': 100000}\n"
     ]
    }
   ],
   "source": [
    "print(mlp_optimal.best_score_)\n",
    "print(mlp_optimal.best_params_)"
   ]
  },
  {
   "cell_type": "code",
   "execution_count": 31,
   "metadata": {},
   "outputs": [
    {
     "name": "stdout",
     "output_type": "stream",
     "text": [
      "Test verisi için doğruluk oranı:  0.6481481481481481 \n",
      "\n",
      "Precision (Hassaslık):  0.6481481481481481\n",
      "Recall (Duyarlılık):  0.6121031746031745 \n",
      "\n",
      "F1 skor değerimiz:  0.554204323941166 \n",
      "\n",
      "Sınıflandırma tablosu: \n"
     ]
    },
    {
     "data": {
      "image/png": "[encoded data removed]",
      "text/plain": [
       "<Figure size 432x288 with 2 Axes>"
      ]
     },
     "metadata": {
      "needs_background": "light"
     },
     "output_type": "display_data"
    }
   ],
   "source": [
    "y_tahmin = mlp_optimal.predict(x2_test)\n",
    "\n",
    "print('Test verisi için doğruluk oranı: ', accuracy_score(y_tahmin, y2_test), '\\n')\n",
    "\n",
    "print(\"Precision (Hassaslık): \", precision_score(y2_test, y_tahmin, average='micro'))\n",
    "print(\"Recall (Duyarlılık): \", recall_score(y2_test, y_tahmin, average='macro'), '\\n')\n",
    "\n",
    "f1skor_sonn = f1_score(y2_test, y_tahmin, average='macro')\n",
    "print(\"F1 skor değerimiz: \", f1skor_sonn, '\\n')\n",
    "\n",
    "cm = confusion_matrix(y2_test, y_tahmin)\n",
    "sns.heatmap(cm, center=True, annot=True, fmt=\"d\")\n",
    "\n",
    "print(\"Sınıflandırma tablosu: \")"
   ]
  },
  {
   "cell_type": "markdown",
   "metadata": {},
   "source": [
    "## 3. VERİ MODELLEME (Random Forest Classifier)"
   ]
  },
  {
   "cell_type": "markdown",
   "metadata": {},
   "source": [
    "##### Random Forest modellemesini çağırma ve tahmin sonucunu yazdırma"
   ]
  },
  {
   "cell_type": "code",
   "execution_count": 32,
   "metadata": {},
   "outputs": [
    {
     "name": "stdout",
     "output_type": "stream",
     "text": [
      "Random Forest Eğitim verisi Doğruluk: 0.9181286549707602\n",
      "Random Forest Test verisi Doğruluk:  0.813953488372093 \n",
      "\n",
      "Random Forest Hassaslık (Precision):  0.813953488372093\n",
      "Random Forest Duyarlılık (Recall):  0.7142857142857143 \n",
      "\n",
      "Random Forest F1 skoru:  0.7535449735449736 \n",
      "\n",
      "Sınıflandırma tablosu: \n"
     ]
    },
    {
     "data": {
      "image/png": "[encoded data removed]",
      "text/plain": [
       "<Figure size 432x288 with 2 Axes>"
      ]
     },
     "metadata": {
      "needs_background": "light"
     },
     "output_type": "display_data"
    }
   ],
   "source": [
    "rf = RandomForestClassifier(n_estimators=100, max_depth=10, min_samples_leaf=3)\n",
    "rf.fit(x_egitim, y_egitim)\n",
    "\n",
    "y_tahmin = rf.predict(x_test)\n",
    "y_tahmin2 = rf.predict(x_egitim)\n",
    "\n",
    "print('Random Forest Eğitim verisi Doğruluk:', accuracy_score(y_tahmin2, y_egitim))\n",
    "print('Random Forest Test verisi Doğruluk: ', accuracy_score(y_tahmin, y_test), '\\n')\n",
    "\n",
    "print(\"Random Forest Hassaslık (Precision): \", precision_score(y_test, y_tahmin, average='micro'))\n",
    "print(\"Random Forest Duyarlılık (Recall): \", recall_score(y_test, y_tahmin, average='macro'), '\\n')\n",
    "\n",
    "f1skor5 = f1_score(y_test, y_tahmin, average='macro')\n",
    "print(\"Random Forest F1 skoru: \", f1skor5, '\\n')\n",
    "\n",
    "cm = confusion_matrix(y_test, y_tahmin)\n",
    "sns.heatmap(cm, center=True, annot=True, fmt=\"d\")\n",
    "\n",
    "print(\"Sınıflandırma tablosu: \")\n"
   ]
  },
  {
   "cell_type": "markdown",
   "metadata": {},
   "source": [
    "### Random Forest için Öznitelik Seçimi"
   ]
  },
  {
   "cell_type": "code",
   "execution_count": 33,
   "metadata": {},
   "outputs": [
    {
     "data": {
      "text/plain": [
       "RandomForestClassifier(bootstrap=True, ccp_alpha=0.0, class_weight=None,\n",
       "                       criterion='gini', max_depth=10, max_features='auto',\n",
       "                       max_leaf_nodes=None, max_samples=None,\n",
       "                       min_impurity_decrease=0.0, min_impurity_split=None,\n",
       "                       min_samples_leaf=3, min_samples_split=2,\n",
       "                       min_weight_fraction_leaf=0.0, n_estimators=100,\n",
       "                       n_jobs=None, oob_score=False, random_state=None,\n",
       "                       verbose=0, warm_start=False)"
      ]
     },
     "execution_count": 33,
     "metadata": {},
     "output_type": "execute_result"
    }
   ],
   "source": [
    "\n",
    "rf = RandomForestClassifier(n_estimators=100, max_depth=10, min_samples_leaf=3)\n",
    "rfe = RFE(rf, 3)\n",
    "fit = rfe.fit(x_egitim, y_egitim)\n",
    "\n",
    "rf.fit(x_egitim, y_egitim)"
   ]
  },
  {
   "cell_type": "code",
   "execution_count": 34,
   "metadata": {},
   "outputs": [
    {
     "name": "stdout",
     "output_type": "stream",
     "text": [
      "Öznitelik sayısı: 3\n",
      "Seçilen Öznitelikler: [ True False  True  True False False False False False]\n",
      "Özniteliklerimiz:     ['RI', 'Na', 'Mg', 'Al', 'Si', 'K', 'Ca', 'Ba', 'Fe']\n",
      "Öznitelik Sıralaması: [1 3 1 1 4 5 2 6 7]\n"
     ]
    }
   ],
   "source": [
    "print(\"Öznitelik sayısı: %d\" % fit.n_features_)\n",
    "print(\"Seçilen Öznitelikler: %s\" % fit.support_)\n",
    "print(\"Özniteliklerimiz:    \", names[0:9])\n",
    "print(\"Öznitelik Sıralaması: %s\" % fit.ranking_)"
   ]
  },
  {
   "cell_type": "markdown",
   "metadata": {},
   "source": [
    "### Random Forest Classifier için Seçilen Öznitelikler ile Modelleme"
   ]
  },
  {
   "cell_type": "code",
   "execution_count": 35,
   "metadata": {},
   "outputs": [
    {
     "name": "stdout",
     "output_type": "stream",
     "text": [
      "Random Forest için eğitim perf. 1.00\n",
      "Random Forest için test perf. 0.77 \n",
      "\n",
      "Precision (Hassaslık):  0.7674418604651163\n",
      "Recall (Duyarlılık):  0.6733405483405482 \n",
      "\n",
      "F1 skor değerimiz:  0.6932844932844934 \n",
      "\n",
      "Sınıflandırma tablosu: \n"
     ]
    },
    {
     "data": {
      "image/png": "[encoded data removed]",
      "text/plain": [
       "<Figure size 432x288 with 2 Axes>"
      ]
     },
     "metadata": {
      "needs_background": "light"
     },
     "output_type": "display_data"
    }
   ],
   "source": [
    "x2 = file[['RI', 'Mg', 'Al']]\n",
    "y2 = file['Type']\n",
    "\n",
    "x2_egitim, x2_test, y2_egitim, y2_test = train_test_split(x2, y2, test_size=0.20, random_state=42)\n",
    "\n",
    "###############################################################################\n",
    "\n",
    "rf = RandomForestClassifier().fit(x2_egitim, y2_egitim)\n",
    "rf_tahmin = rf.predict(x2_test)\n",
    "\n",
    "\n",
    "print(\"Random Forest için eğitim perf. {:.2f}\".format(rf.score(x2_egitim, y2_egitim)))\n",
    "print(\"Random Forest için test perf. {:.2f}\".format(rf.score(x2_test, y2_test)), '\\n')\n",
    "\n",
    "print(\"Precision (Hassaslık): \", precision_score(y2_test, rf_tahmin, average='micro'))\n",
    "print(\"Recall (Duyarlılık): \", recall_score(y2_test, rf_tahmin, average='macro'), '\\n')\n",
    "\n",
    "f1skor6 = f1_score(y2_test, rf_tahmin, average='macro')\n",
    "print(\"F1 skor değerimiz: \", f1skor6, '\\n')\n",
    "\n",
    "cm = confusion_matrix(y2_test, rf_tahmin)\n",
    "sns.heatmap(cm, center=True, annot=True, fmt=\"d\")\n",
    "\n",
    "print(\"Sınıflandırma tablosu: \")"
   ]
  },
  {
   "cell_type": "markdown",
   "metadata": {},
   "source": [
    "### Random Forest Classifier için Parametre Optimizasyonu"
   ]
  },
  {
   "cell_type": "code",
   "execution_count": 36,
   "metadata": {},
   "outputs": [
    {
     "name": "stdout",
     "output_type": "stream",
     "text": [
      "Fitting 10 folds for each of 300 candidates, totalling 3000 fits\n"
     ]
    },
    {
     "name": "stderr",
     "output_type": "stream",
     "text": [
      "D:\\ProgramData\\Anaconda3\\lib\\site-packages\\sklearn\\model_selection\\_split.py:667: UserWarning: The least populated class in y has only 6 members, which is less than n_splits=10.\n",
      "  % (min_groups, self.n_splits)), UserWarning)\n",
      "[Parallel(n_jobs=-1)]: Using backend LokyBackend with 8 concurrent workers.\n",
      "[Parallel(n_jobs=-1)]: Done  25 tasks      | elapsed:    2.0s\n",
      "[Parallel(n_jobs=-1)]: Done 146 tasks      | elapsed:   18.1s\n",
      "[Parallel(n_jobs=-1)]: Done 349 tasks      | elapsed:   41.2s\n",
      "[Parallel(n_jobs=-1)]: Done 632 tasks      | elapsed:  1.2min\n",
      "[Parallel(n_jobs=-1)]: Done 997 tasks      | elapsed:  1.8min\n",
      "[Parallel(n_jobs=-1)]: Done 1442 tasks      | elapsed:  2.6min\n",
      "[Parallel(n_jobs=-1)]: Done 1969 tasks      | elapsed:  3.6min\n",
      "[Parallel(n_jobs=-1)]: Done 2576 tasks      | elapsed:  4.6min\n",
      "[Parallel(n_jobs=-1)]: Done 3000 out of 3000 | elapsed:  5.4min finished\n"
     ]
    },
    {
     "data": {
      "text/plain": [
       "GridSearchCV(cv=10, error_score=nan,\n",
       "             estimator=RandomForestClassifier(bootstrap=True, ccp_alpha=0.0,\n",
       "                                              class_weight=None,\n",
       "                                              criterion='gini', max_depth=None,\n",
       "                                              max_features='auto',\n",
       "                                              max_leaf_nodes=None,\n",
       "                                              max_samples=None,\n",
       "                                              min_impurity_decrease=0.0,\n",
       "                                              min_impurity_split=None,\n",
       "                                              min_samples_leaf=1,\n",
       "                                              min_samples_split=2,\n",
       "                                              min_weight_fraction_leaf=0.0,\n",
       "                                              n_estimators=100, n_jobs=None,\n",
       "                                              oob_score=False,\n",
       "                                              random_state=None, verbose=0,\n",
       "                                              warm_start=False),\n",
       "             iid='deprecated', n_jobs=-1,\n",
       "             param_grid={'max_depth': [5, 6, 7, 9, 10],\n",
       "                         'max_features': ['auto', 'sqrt', 'log2'],\n",
       "                         'min_samples_leaf': [2, 3, 5, 10],\n",
       "                         'n_estimators': [100, 200, 300, 400, 500]},\n",
       "             pre_dispatch='2*n_jobs', refit=True, return_train_score=False,\n",
       "             scoring=None, verbose=2)"
      ]
     },
     "execution_count": 36,
     "metadata": {},
     "output_type": "execute_result"
    }
   ],
   "source": [
    "rfparametre={\n",
    "'n_estimators': [100, 200, 300, 400, 500],\n",
    "'max_depth': [5, 6, 7, 9, 10],\n",
    "'min_samples_leaf': [2, 3, 5, 10],\n",
    "'max_features':[\"auto\", \"sqrt\", \"log2\"]\n",
    "    \n",
    "}\n",
    "\n",
    "rf = RandomForestClassifier()\n",
    "\n",
    "rf_optimal = GridSearchCV(\n",
    "    estimator=rf,\n",
    "    param_grid=rfparametre,\n",
    "    n_jobs=-1,\n",
    "    verbose=2,\n",
    "    cv=10\n",
    "    )\n",
    "\n",
    "rf_optimal.fit(x2_egitim, y2_egitim.ravel())"
   ]
  },
  {
   "cell_type": "code",
   "execution_count": 37,
   "metadata": {},
   "outputs": [
    {
     "name": "stdout",
     "output_type": "stream",
     "text": [
      "0.7084967320261438\n",
      "{'max_depth': 10, 'max_features': 'auto', 'min_samples_leaf': 2, 'n_estimators': 100}\n"
     ]
    }
   ],
   "source": [
    "print(rf_optimal.best_score_)\n",
    "print(rf_optimal.best_params_)"
   ]
  },
  {
   "cell_type": "code",
   "execution_count": 38,
   "metadata": {},
   "outputs": [
    {
     "name": "stdout",
     "output_type": "stream",
     "text": [
      "Test verisi için doğruluk oranı:  0.7209302325581395 \n",
      "\n",
      "Precision (Hassaslık):  0.7209302325581395\n",
      "Recall (Duyarlılık):  0.5793650793650794 \n",
      "\n",
      "F1 skor değerimiz:  0.5835802469135802 \n",
      "\n",
      "Sınıflandırma tablosu: \n"
     ]
    },
    {
     "data": {
      "image/png": "[encoded data removed]",
      "text/plain": [
       "<Figure size 432x288 with 2 Axes>"
      ]
     },
     "metadata": {
      "needs_background": "light"
     },
     "output_type": "display_data"
    }
   ],
   "source": [
    "y_tahmin = rf_optimal.predict(x2_test)\n",
    "\n",
    "print('Test verisi için doğruluk oranı: ', accuracy_score(y_tahmin, y2_test), '\\n')\n",
    "\n",
    "print(\"Precision (Hassaslık): \", precision_score(y2_test, y_tahmin, average='micro'))\n",
    "print(\"Recall (Duyarlılık): \", recall_score(y2_test, y_tahmin, average='macro'), '\\n')\n",
    "\n",
    "f1skor_son = f1_score(y2_test, y_tahmin, average='macro')\n",
    "print(\"F1 skor değerimiz: \", f1skor_son, '\\n')\n",
    "\n",
    "cm = confusion_matrix(y2_test, y_tahmin)\n",
    "sns.heatmap(cm, center=True, annot=True, fmt=\"d\")\n",
    "\n",
    "print(\"Sınıflandırma tablosu: \")\n"
   ]
  },
  {
   "cell_type": "markdown",
   "metadata": {},
   "source": [
    "## Modelleri tek bir modelde birleştirme (Voting_Classifier)"
   ]
  },
  {
   "cell_type": "markdown",
   "metadata": {},
   "source": [
    "##### Makine öğrenmesinde kullandığımız, birleştireceğimiz modellemeleri çağırıyoruz."
   ]
  },
  {
   "cell_type": "code",
   "execution_count": 39,
   "metadata": {},
   "outputs": [],
   "source": [
    "modelleme1 = MLPClassifier(max_iter=100000)\n",
    "modelleme2 = RandomForestClassifier(n_estimators=100)\n",
    "modelleme3 = RandomForestClassifier(n_estimators=500)\n",
    "modelleme4 = DecisionTreeClassifier()"
   ]
  },
  {
   "cell_type": "markdown",
   "metadata": {},
   "source": [
    "##### Modellemeleri önem derecelerine göre sıralayıp tek model performansını ölçüyoruz."
   ]
  },
  {
   "cell_type": "code",
   "execution_count": 40,
   "metadata": {},
   "outputs": [
    {
     "name": "stdout",
     "output_type": "stream",
     "text": [
      "Test verisi için doğruluk:  0.7674418604651163\n"
     ]
    }
   ],
   "source": [
    "model_oylamasi = VotingClassifier(estimators=[('mlp1', modelleme1), ('rfc1', modelleme2), \n",
    "                                  ('rfc2', modelleme3), ('dtc1', modelleme4)],\n",
    "                                weights=[3,4,2,1], \n",
    "                                voting='soft')\n",
    "\n",
    "model_oylamasi.fit(x2_egitim, y2_egitim)\n",
    "y_tahmin = model_oylamasi.predict(x2_test)\n",
    "\n",
    "print(\"Test verisi için doğruluk: \", accuracy_score(y_tahmin, y2_test))"
   ]
  },
  {
   "cell_type": "code",
   "execution_count": null,
   "metadata": {},
   "outputs": [],
   "source": []
  }
 ],
 "metadata": {
  "kernelspec": {
   "display_name": "Python 3",
   "language": "python",
   "name": "python3"
  },
  "language_info": {
   "codemirror_mode": {
    "name": "ipython",
    "version": 3
   },
   "file_extension": ".py",
   "mimetype": "text/x-python",
   "name": "python",
   "nbconvert_exporter": "python",
   "pygments_lexer": "ipython3",
   "version": "3.7.6"
  }
 },
 "nbformat": 4,
 "nbformat_minor": 4
}
